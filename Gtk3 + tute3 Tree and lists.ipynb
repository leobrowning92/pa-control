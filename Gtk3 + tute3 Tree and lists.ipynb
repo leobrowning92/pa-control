{
 "metadata": {
  "name": ""
 },
 "nbformat": 3,
 "nbformat_minor": 0,
 "worksheets": [
  {
   "cells": [
    {
     "cell_type": "markdown",
     "metadata": {},
     "source": [
      "#GTK+ 3 Tutorial\n",
      "Official site: [gtk.org](gtk.org)\n",
      "\n",
      "Tutorial used is found at [link](https://python-gtk-3-tutorial.readthedocs.org/en/latest/index.html)\n",
      "\n",
      "Documentation [link](https://developer.gnome.org/gtk3/stable/)\n",
      "and more python specific docs can be found at [link](https://lazka.github.io/pgi-docs/) although the python documentation is not comprehensive"
     ]
    },
    {
     "cell_type": "markdown",
     "metadata": {},
     "source": [
      "###Tree Model\n",
      "\n",
      "tree portion of the tute is found [here](https://python-gtk-3-tutorial.readthedocs.org/en/latest/treeview.html)\n",
      "\n",
      "every TreeView has an associated TreeModel which contains the data to  be displayed by the TreeView. A model can be used by more than one view.\n",
      "\n",
      "The most common Models are the Gtk.ListStore(only simple rows of data) or Gtk.TreeStore(rows of data which may have children rows).\n",
      "An example of a model constructor would be:\n",
      "\n",
      "    store=Gtk.ListStore(str,str,float)\n",
      "    \n",
      "where the arguments are the data types of each collumn. adding data is done using  `.append()` methods for example\n",
      "\n",
      "    treeiter = store.append([\"title\",\"author\",1992])\n",
      "    \n",
      "The `.append()` method returns a Gtk.TreeIter instance which points to the inserted row.\n",
      "\n",
      "the the values in `store` can be treated like a list in terms of notation and slicing ie\n",
      "\n",
      "    store[treeiter][:2] \n",
      "    \n",
      "is a valid notation. However note that for a TreeStore this only goes over the top level nodes, but not their children."
     ]
    },
    {
     "cell_type": "markdown",
     "metadata": {},
     "source": [
      "###TreeView\n",
      "\n",
      "setup using `tree=Gtk.TreeView(store)` or `Gttk.TreeView.set_model()`\n",
      "\n",
      "Then use a cell renderer  to draw the data in a tree model such as `CellRendererText`, `CellRendererPixbuf` or `CellRendererToggle`.\n"
     ]
    },
    {
     "cell_type": "code",
     "collapsed": false,
     "input": [],
     "language": "python",
     "metadata": {},
     "outputs": [],
     "prompt_number": 8
    },
    {
     "cell_type": "code",
     "collapsed": false,
     "input": [],
     "language": "python",
     "metadata": {},
     "outputs": [],
     "prompt_number": 8
    },
    {
     "cell_type": "code",
     "collapsed": false,
     "input": [
      "from gi.repository import Gtk\n",
      "\n",
      "#list of tuples for each software, containing the software name, initial release, and main programming languages used\n",
      "software_list = [(\"Firefox\", 2002,  \"C++\"),\n",
      "                 (\"Eclipse\", 2004, \"Java\" ),\n",
      "                 (\"Pitivi\", 2004, \"Python\"),\n",
      "                 (\"Netbeans\", 1996, \"Java\"),\n",
      "                 (\"Chrome\", 2008, \"C++\"),\n",
      "                 (\"Filezilla\", 2001, \"C++\"),\n",
      "                 (\"Bazaar\", 2005, \"Python\"),\n",
      "                 (\"Git\", 2005, \"C\"),\n",
      "                 (\"Linux Kernel\", 1991, \"C\"),\n",
      "                 (\"GCC\", 1987, \"C\"),\n",
      "                 (\"Frostwire\", 2004, \"Java\")]\n",
      "\n",
      "class TreeViewFilterWindow(Gtk.Window):\n",
      "\n",
      "    def __init__(self):\n",
      "        Gtk.Window.__init__(self, title=\"Treeview Filter Demo\")\n",
      "        self.set_border_width(10)\n",
      "\n",
      "        #Setting up the self.grid in which the elements are to be positionned\n",
      "        self.grid = Gtk.Grid()\n",
      "        self.grid.set_column_homogeneous(True)\n",
      "        self.grid.set_row_homogeneous(True)\n",
      "        self.add(self.grid)\n",
      "\n",
      "        #Creating the ListStore model\n",
      "        self.software_liststore = Gtk.ListStore(str, int, str)\n",
      "        for software_ref in software_list:\n",
      "            self.software_liststore.append(list(software_ref))\n",
      "        self.current_filter_language = None\n",
      "\n",
      "        #Creating the filter, feeding it with the liststore model\n",
      "        self.language_filter = self.software_liststore.filter_new()\n",
      "        #setting the filter function, note that we're not using the\n",
      "        self.language_filter.set_visible_func(self.language_filter_func)\n",
      "\n",
      "        #creating the treeview, making it use the filter as a model, and adding the columns\n",
      "        self.treeview = Gtk.TreeView.new_with_model(self.language_filter)\n",
      "        for i, column_title in enumerate([\"Software\", \"Release Year\", \"Programming Language\"]):\n",
      "            renderer = Gtk.CellRendererText()\n",
      "            column = Gtk.TreeViewColumn(column_title, renderer, text=i)\n",
      "            self.treeview.append_column(column)\n",
      "\n",
      "        #creating buttons to filter by programming language, and setting up their events\n",
      "        self.buttons = list()\n",
      "        for prog_language in [\"Java\", \"C\", \"C++\", \"Python\", \"None\"]:\n",
      "            button = Gtk.Button(prog_language)\n",
      "            self.buttons.append(button)\n",
      "            button.connect(\"clicked\", self.on_selection_button_clicked)\n",
      "\n",
      "        #setting up the layout, putting the treeview in a scrollwindow, and the buttons in a row\n",
      "        self.scrollable_treelist = Gtk.ScrolledWindow()\n",
      "        self.scrollable_treelist.set_vexpand(True)\n",
      "        self.grid.attach(self.scrollable_treelist, 0, 0, 8, 10)\n",
      "        self.grid.attach_next_to(self.buttons[0], self.scrollable_treelist, Gtk.PositionType.BOTTOM, 1, 1)\n",
      "        for i, button in enumerate(self.buttons[1:]):\n",
      "            self.grid.attach_next_to(button, self.buttons[i], Gtk.PositionType.RIGHT, 1, 1)\n",
      "        self.scrollable_treelist.add(self.treeview)\n",
      "\n",
      "        self.show_all()\n",
      "\n",
      "    def language_filter_func(self, model, iter, data):\n",
      "        \"\"\"Tests if the language in the row is the one in the filter\"\"\"\n",
      "        if self.current_filter_language is None or self.current_filter_language == \"None\":\n",
      "            return True\n",
      "        else:\n",
      "            return model[iter][2] == self.current_filter_language\n",
      "\n",
      "    def on_selection_button_clicked(self, widget):\n",
      "        \"\"\"Called on any of the button clicks\"\"\"\n",
      "        #we set the current language filter to the button's label\n",
      "        self.current_filter_language = widget.get_label()\n",
      "        print(\"%s language selected!\" % self.current_filter_language)\n",
      "        #we update the filter, which updates in turn the view\n",
      "        self.language_filter.refilter()\n",
      "\n",
      "\n",
      "win = TreeViewFilterWindow()\n",
      "win.connect(\"delete-event\", Gtk.main_quit)\n",
      "win.show_all()\n",
      "Gtk.main()"
     ],
     "language": "python",
     "metadata": {},
     "outputs": [
      {
       "output_type": "stream",
       "stream": "stdout",
       "text": [
        "Java language selected!\n",
        "C language selected!"
       ]
      },
      {
       "output_type": "stream",
       "stream": "stdout",
       "text": [
        "\n",
        "C++ language selected!"
       ]
      },
      {
       "output_type": "stream",
       "stream": "stdout",
       "text": [
        "\n",
        "Python language selected!"
       ]
      },
      {
       "output_type": "stream",
       "stream": "stdout",
       "text": [
        "\n",
        "None language selected!"
       ]
      },
      {
       "output_type": "stream",
       "stream": "stdout",
       "text": [
        "\n"
       ]
      }
     ],
     "prompt_number": 8
    },
    {
     "cell_type": "code",
     "collapsed": false,
     "input": [],
     "language": "python",
     "metadata": {},
     "outputs": []
    }
   ],
   "metadata": {}
  }
 ]
}