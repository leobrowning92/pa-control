{
 "metadata": {
  "name": ""
 },
 "nbformat": 3,
 "nbformat_minor": 0,
 "worksheets": [
  {
   "cells": [
    {
     "cell_type": "markdown",
     "metadata": {},
     "source": [
      "#GTK+ 3 Tutorial\n",
      " Tutorial is found at [link](https://python-gtk-3-tutorial.readthedocs.org/en/latest/index.html)"
     ]
    },
    {
     "cell_type": "markdown",
     "metadata": {},
     "source": [
      "Ultra Basic window:"
     ]
    },
    {
     "cell_type": "code",
     "collapsed": false,
     "input": [
      "from gi.repository import Gtk\n",
      "\n",
      "win=Gtk.Window() #creates empty window\n",
      "\n",
      "#connects to the windows delete event, to ensure application\n",
      "#termination when x button is clicked\n",
      "win.connect(\"delete-event\",Gtk.main_quit)\n",
      "#display the window\n",
      "win.show_all()\n",
      "#run the GTK+ processing loop\n",
      "Gtk.main()\n"
     ],
     "language": "python",
     "metadata": {},
     "outputs": [],
     "prompt_number": 6
    },
    {
     "cell_type": "markdown",
     "metadata": {},
     "source": [
      "Hello World, GTK version:"
     ]
    },
    {
     "cell_type": "code",
     "collapsed": false,
     "input": [
      "from gi.repository import Gtk\n",
      "\n",
      "class MyWindow(Gtk.Window):\n",
      "    \n",
      "    def __init__(self):\n",
      "        Gtk.Window.__init__(self,title='Hello World')\n",
      "        #create button widget\n",
      "        self.button=Gtk.Button(label='click here')\n",
      "        #connect to clicked signal\n",
      "        self.button.connect('clicked',self.on_button_clicked)\n",
      "        #add the button as a child to the top level Window\n",
      "        self.add(self.button)\n",
      "    #define the button clicked method to its clicked signal\n",
      "    def on_button_clicked(self,widget):\n",
      "        print(\"hello world\")\n",
      "\n",
      "        \n",
      "#same as previous       \n",
      "win=MyWindow()\n",
      "win.connect('delete-event',Gtk.main_quit)\n",
      "win.show_all()\n",
      "Gtk.main()"
     ],
     "language": "python",
     "metadata": {},
     "outputs": [
      {
       "output_type": "stream",
       "stream": "stdout",
       "text": [
        "hello world\n",
        "hello world"
       ]
      },
      {
       "output_type": "stream",
       "stream": "stdout",
       "text": [
        "\n",
        "hello world"
       ]
      },
      {
       "output_type": "stream",
       "stream": "stdout",
       "text": [
        "\n",
        "hello world"
       ]
      },
      {
       "output_type": "stream",
       "stream": "stdout",
       "text": [
        "\n"
       ]
      }
     ],
     "prompt_number": 1
    },
    {
     "cell_type": "markdown",
     "metadata": {},
     "source": [
      "###Main loops, signals, callbacks and properties\n",
      "signal is ie 'clicked' from button. Callbacks are the code run from a signal\n",
      "ie: \n",
      "\n",
      "    handler_id = widget.connect(\"event\", callback)\n",
      "    \n",
      "properties are the config and state of a window. They can be determined by:\n",
      "\n",
      "    widget = Gtk.Box()\n",
      "    print(dir(widget.props))\n",
      "    \n",
      "and can be set using:\n",
      "\n",
      "    label = Gtk.label9label-Hello World\", angle=25, halign=Gtk.Align.END)\n",
      "    \n",
      "or equivalently;\n",
      "\n",
      "    label=Gtk.Label()\n",
      "    label.set_label('Hello World')\n",
      "    label.set_angle(25)\n",
      "    label.sethalight(Gtk.Align.END)\n",
      "    \n",
      "more information on this can be found at [link](https://python-gtk-3-tutorial.readthedocs.org/en/latest/basics.html)"
     ]
    },
    {
     "cell_type": "markdown",
     "metadata": {},
     "source": [
      "###Layout and Containers"
     ]
    },
    {
     "cell_type": "markdown",
     "metadata": {},
     "source": [
      "Boxes:"
     ]
    },
    {
     "cell_type": "code",
     "collapsed": false,
     "input": [
      "from gi.repository import Gtk\n",
      "\n",
      "class MyWindow(Gtk.Window):\n",
      "    \n",
      "    def __init__(self):\n",
      "        Gtk.Window.__init__(self, title=\"Hello World\")\n",
      "        \n",
      "        #Horizontal container w/ 6 pixers bw/ children\n",
      "        self.box =Gtk.Box(spacing=6)\n",
      "        self.add(self.box)#box is child of window\n",
      "        \n",
      "        self.button1=Gtk.Button(label='Hello')\n",
      "        self.button1.connect('clicked',self.on_button1_clicked)\n",
      "        self.box.pack_start(self.button1,True,True,0)\n",
      "        \n",
      "        self.button2=Gtk.Button(label='Boodbye')\n",
      "        self.button2.connect('clicked',self.on_button2_clicked)\n",
      "        self.box.pack_start(self.button2,True,True,0)\n",
      "        \n",
      "    def on_button1_clicked(self,widget):\n",
      "        print('Hello')\n",
      "        \n",
      "    def on_button2_clicked(self,widget):\n",
      "        print('Goodbye')\n",
      "        \n",
      "        \n",
      "win=MyWindow()\n",
      "win.connect('delete-event',Gtk.main_quit)\n",
      "win.show_all()\n",
      "Gtk.main()"
     ],
     "language": "python",
     "metadata": {},
     "outputs": [],
     "prompt_number": 5
    },
    {
     "cell_type": "markdown",
     "metadata": {},
     "source": [
      "Grids:\n",
      "to add a widget use:\n",
      "\n",
      "    grid.attach(button,xpos,ypos,xwisth,yheight)\n",
      "    \n",
      "or:\n",
      "\n",
      "    grid.attach_next_to(button3, button1, Gtk.PositionType.BOTTOM, xwidth, yheight)"
     ]
    },
    {
     "cell_type": "code",
     "collapsed": false,
     "input": [
      "from gi.repository import Gtk\n",
      "\n",
      "class GridWindow(Gtk.Window):\n",
      "\n",
      "    def __init__(self):\n",
      "        Gtk.Window.__init__(self, title=\"Grid Example\")\n",
      "\n",
      "        grid = Gtk.Grid()\n",
      "        self.add(grid)\n",
      "\n",
      "        button1 = Gtk.Button(label=\"Button 1\")\n",
      "        button2 = Gtk.Button(label=\"Button 2\")\n",
      "        button3 = Gtk.Button(label=\"Button 3\")\n",
      "        button4 = Gtk.Button(label=\"Button 4\")\n",
      "        button5 = Gtk.Button(label=\"Button 5\")\n",
      "        button6 = Gtk.Button(label=\"Button 6\")\n",
      "\n",
      "        grid.add(button1)\n",
      "        grid.attach(button2,1,0,2,1)\n",
      "        grid.attach_next_to(button3, button1, Gtk.PositionType.BOTTOM, 1, 2)\n",
      "        grid.attach_next_to(button4, button3, Gtk.PositionType.RIGHT, 2, 1)\n",
      "        grid.attach(button5, 1, 2, 1, 1)\n",
      "        grid.attach_next_to(button6, button5, Gtk.PositionType.RIGHT, 1, 1)\n",
      "        \n",
      "win = GridWindow()\n",
      "win.connect(\"delete-event\", Gtk.main_quit)\n",
      "win.show_all()\n",
      "Gtk.main()"
     ],
     "language": "python",
     "metadata": {},
     "outputs": [],
     "prompt_number": 6
    },
    {
     "cell_type": "code",
     "collapsed": false,
     "input": [],
     "language": "python",
     "metadata": {},
     "outputs": []
    },
    {
     "cell_type": "code",
     "collapsed": false,
     "input": [],
     "language": "python",
     "metadata": {},
     "outputs": []
    }
   ],
   "metadata": {}
  }
 ]
}