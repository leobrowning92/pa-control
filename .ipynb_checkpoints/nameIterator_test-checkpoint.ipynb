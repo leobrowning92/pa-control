{
 "metadata": {
  "name": ""
 },
 "nbformat": 3,
 "nbformat_minor": 0,
 "worksheets": [
  {
   "cells": [
    {
     "cell_type": "code",
     "collapsed": false,
     "input": [
      "def set_name()\n",
      "    basename = input('Please input your file name with [ITER] \\n in the region that you would like an iterator : ')\n",
      "    \n",
      "    if '[ITER]' in basename:\n",
      "        print('check')\n",
      "        name = basename.replace('[ITER]','%s')\n",
      "    else:\n",
      "        name=basename\n",
      "    return name\n",
      "NAME=set_name()"
     ],
     "language": "python",
     "metadata": {},
     "outputs": [
      {
       "name": "stdout",
       "output_type": "stream",
       "stream": "stdout",
       "text": [
        "Please input your file name with [ITER] \n",
        " in the region that you would like an iterator : test[ITER]\n"
       ]
      },
      {
       "output_type": "stream",
       "stream": "stdout",
       "text": [
        "check\n"
       ]
      }
     ],
     "prompt_number": 1
    },
    {
     "cell_type": "code",
     "collapsed": false,
     "input": [
      "num=0\n",
      "while True:\n",
      "    command = input(\"input : \")\n",
      "\n",
      "    #checks for single letter\n",
      "    if command =='q':\n",
      "        print('stop')\n",
      "        break\n",
      "    elif command =='i': #i for iterate. increases iterator by 1\n",
      "        num+=1\n",
      "    elif command =='p': #p for pass. keeps the iterator the same\n",
      "        pass\n",
      "    elif command =='s': #s for set. sets the iterator to the folowing value\n",
      "        num=input(\"Set iterator to : \")\n",
      "    elif command == 'r': #r for reset. resets the name of the sample to a given value\n",
      "        NAME=set_name()\n",
      "    newindex=num\n",
      "    print('Download data for run with filename:\\n'+NAME %(newindex))\n",
      "            \n",
      "print('Session Terminated')\n"
     ],
     "language": "python",
     "metadata": {},
     "outputs": [
      {
       "name": "stdout",
       "output_type": "stream",
       "stream": "stdout",
       "text": [
        "input : s\n"
       ]
      },
      {
       "output_type": "stream",
       "stream": "stdout",
       "text": [
        "Download data for run with filename:\n",
        "test0\n"
       ]
      },
      {
       "name": "stdout",
       "output_type": "stream",
       "stream": "stdout",
       "text": [
        "input : s\n"
       ]
      },
      {
       "output_type": "stream",
       "stream": "stdout",
       "text": [
        "Download data for run with filename:\n",
        "test0\n"
       ]
      },
      {
       "name": "stdout",
       "output_type": "stream",
       "stream": "stdout",
       "text": [
        "input : s\n"
       ]
      },
      {
       "output_type": "stream",
       "stream": "stdout",
       "text": [
        "Download data for run with filename:\n",
        "test0\n"
       ]
      },
      {
       "name": "stdout",
       "output_type": "stream",
       "stream": "stdout",
       "text": [
        "input : n\n"
       ]
      },
      {
       "output_type": "stream",
       "stream": "stdout",
       "text": [
        "Download data for run with filename:\n",
        "test1\n"
       ]
      },
      {
       "name": "stdout",
       "output_type": "stream",
       "stream": "stdout",
       "text": [
        "input : n\n"
       ]
      },
      {
       "output_type": "stream",
       "stream": "stdout",
       "text": [
        "Download data for run with filename:\n",
        "test2\n"
       ]
      },
      {
       "name": "stdout",
       "output_type": "stream",
       "stream": "stdout",
       "text": [
        "input : n\n"
       ]
      },
      {
       "output_type": "stream",
       "stream": "stdout",
       "text": [
        "Download data for run with filename:\n",
        "test3\n"
       ]
      },
      {
       "name": "stdout",
       "output_type": "stream",
       "stream": "stdout",
       "text": [
        "input : n\n"
       ]
      },
      {
       "output_type": "stream",
       "stream": "stdout",
       "text": [
        "Download data for run with filename:\n",
        "test4\n"
       ]
      },
      {
       "name": "stdout",
       "output_type": "stream",
       "stream": "stdout",
       "text": [
        "input : n\n"
       ]
      },
      {
       "output_type": "stream",
       "stream": "stdout",
       "text": [
        "Download data for run with filename:\n",
        "test5\n"
       ]
      }
     ],
     "prompt_number": "*"
    },
    {
     "cell_type": "code",
     "collapsed": false,
     "input": [
      "num=0\n",
      "while True:\n",
      "\t#command = input(\"input : \")\n",
      "    break"
     ],
     "language": "python",
     "metadata": {},
     "outputs": [],
     "prompt_number": 2
    },
    {
     "cell_type": "code",
     "collapsed": false,
     "input": [],
     "language": "python",
     "metadata": {},
     "outputs": []
    }
   ],
   "metadata": {}
  }
 ]
}