{
 "metadata": {
  "name": ""
 },
 "nbformat": 3,
 "nbformat_minor": 0,
 "worksheets": [
  {
   "cells": [
    {
     "cell_type": "markdown",
     "metadata": {},
     "source": [
      "#GTK+ 3 pa GUI test\n",
      "Official site: [gtk.org](gtk.org)\n",
      "\n",
      "Tutorial used is found at [link](https://python-gtk-3-tutorial.readthedocs.org/en/latest/index.html)\n",
      "\n",
      "Documentation [link](https://developer.gnome.org/gtk3/stable/)\n",
      "and more python specific docs can be found at [link](https://lazka.github.io/pgi-docs/) although the python documentation is not comprehensive"
     ]
    },
    {
     "cell_type": "code",
     "collapsed": false,
     "input": [
      "from gi.repository import Gtk, GObject\n",
      "\n",
      "class paTestGUI(Gtk.Window):\n",
      "\n",
      "    def __init__(self):\n",
      "        Gtk.Window.__init__(self, title=\"pa GUI test\") #Top level window\n",
      "        self.set_border_width(10)\n",
      "        \n",
      "        grid = Gtk.Grid()\n",
      "        self.add(grid)\n",
      "        \n",
      "        file_label=Gtk.Label(\"Filename : \")\n",
      "        grid.attach(file_label,0,0,1,1)\n",
      "        \n",
      "        filename=Gtk.Entry()#initialize entry widget\n",
      "        filename.set_text(\"ChipX_deviceY_FET.txt\")\n",
      "        grid.attach(filename,1,0,4,1)\n",
      "        \n",
      "        folder_browser_button=Gtk.Button(label=\"Select Folder\")\n",
      "        folder_browser_button.connect('clicked',self.on_folder_browser_button_clicked)\n",
      "        grid.attach(folder_browser_button,0,1,1,1)\n",
      "        \n",
      "        filepath=Gtk.Entry()\n",
      "        grid.attach(filepath,1,1,4,1)\n",
      "        \n",
      "        testbutton=Gtk.Button(label='test')\n",
      "        grid.attach(testbutton,0,2,4,1)\n",
      "        \n",
      "        testbutton2=Gtk.Button(label='test2')\n",
      "        grid.attach(testbutton2,4,2,1,1)\n",
      "        \n",
      "        \n",
      "   \n",
      "        \n",
      "        \n",
      "    def on_enter_button_clicked(self,widget):\n",
      "        #prints the text input to terminal\n",
      "        print(\"Enter button pressed, input text : \"+ self.entry.get_text())\n",
      "    \n",
      "    def on_folder_browser_button_clicked(self,widget):\n",
      "        \n",
      "        dialog = Gtk.FileChooserDialog(\"Please choose a folder\", self,\n",
      "            Gtk.FileChooserAction.SELECT_FOLDER,\n",
      "            (Gtk.STOCK_CANCEL, Gtk.ResponseType.CANCEL,\n",
      "             \"Select\", Gtk.ResponseType.OK))\n",
      "        dialog.set_default_size(800, 400)\n",
      "\n",
      "        response = dialog.run()\n",
      "        if response == Gtk.ResponseType.OK:\n",
      "            self.filepath.set_text(dialog.get_filename())\n",
      "            print(\"Select clicked\")\n",
      "            print(\"Folder selected: \" + dialog.get_filename())\n",
      "            \n",
      "        elif response == Gtk.ResponseType.CANCEL:\n",
      "            print(\"Cancel clicked\")\n",
      "\n",
      "        dialog.destroy()\n",
      "   \n",
      "\n",
      "        \n",
      "win = paTestGUI()\n",
      "win.connect(\"delete-event\", Gtk.main_quit)\n",
      "win.show_all()\n",
      "Gtk.main()"
     ],
     "language": "python",
     "metadata": {},
     "outputs": [],
     "prompt_number": 44
    },
    {
     "cell_type": "code",
     "collapsed": false,
     "input": [
      "\n"
     ],
     "language": "python",
     "metadata": {},
     "outputs": [
      {
       "metadata": {},
       "output_type": "pyout",
       "prompt_number": 38,
       "text": [
        "'gi.repository.Gtk'"
       ]
      }
     ],
     "prompt_number": 38
    },
    {
     "cell_type": "code",
     "collapsed": false,
     "input": [],
     "language": "python",
     "metadata": {},
     "outputs": []
    }
   ],
   "metadata": {}
  }
 ]
}