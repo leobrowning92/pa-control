{
 "metadata": {
  "name": ""
 },
 "nbformat": 3,
 "nbformat_minor": 0,
 "worksheets": [
  {
   "cells": [
    {
     "cell_type": "markdown",
     "metadata": {},
     "source": [
      "#GTK+ 3 Tutorial\n",
      "Official site: [gtk.org](gtk.org)\n",
      "\n",
      "Tutorial used is found at [link](https://python-gtk-3-tutorial.readthedocs.org/en/latest/index.html)\n",
      "\n",
      "Documentation [link](https://developer.gnome.org/gtk3/stable/)\n",
      "and more python specific docs can be found at [link](https://lazka.github.io/pgi-docs/) although the python documentation is not comprehensive"
     ]
    },
    {
     "cell_type": "markdown",
     "metadata": {},
     "source": [
      "###Entry Widget"
     ]
    },
    {
     "cell_type": "code",
     "collapsed": false,
     "input": [
      "from gi.repository import Gtk, GObject\n",
      "\n",
      "class EntryWindow(Gtk.Window):\n",
      "\n",
      "    def __init__(self):\n",
      "        Gtk.Window.__init__(self, title=\"Entry Demo\")\n",
      "        self.set_size_request(200, 100)\n",
      "\n",
      "        self.timeout_id = None\n",
      "\n",
      "        vbox = Gtk.Box(orientation=Gtk.Orientation.VERTICAL, spacing=6)\n",
      "        self.add(vbox)\n",
      "\n",
      "        self.entry = Gtk.Entry()\n",
      "        self.entry.set_text(\"Hello World\")\n",
      "        vbox.pack_start(self.entry, True, True, 0)\n",
      "\n",
      "        hbox = Gtk.Box(spacing=6)\n",
      "        vbox.pack_start(hbox, True, True, 0)\n",
      "        \n",
      "        self.check_editable = Gtk.CheckButton(\"Editable\")\n",
      "        self.check_editable.connect(\"toggled\", self.on_editable_toggled)\n",
      "        self.check_editable.set_active(True)\n",
      "        hbox.pack_start(self.check_editable, True, True, 0)\n",
      "\n",
      "        self.check_visible = Gtk.CheckButton(\"Visible\")\n",
      "        self.check_visible.connect(\"toggled\", self.on_visible_toggled)\n",
      "        self.check_visible.set_active(True)\n",
      "        hbox.pack_start(self.check_visible, True, True, 0)\n",
      "\n",
      "        self.pulse = Gtk.CheckButton(\"Pulse\")\n",
      "        self.pulse.connect(\"toggled\", self.on_pulse_toggled)\n",
      "        self.pulse.set_active(False)\n",
      "        hbox.pack_start(self.pulse, True, True, 0)\n",
      "\n",
      "        self.icon = Gtk.CheckButton(\"Icon\")\n",
      "        self.icon.connect(\"toggled\", self.on_icon_toggled)\n",
      "        self.icon.set_active(False)\n",
      "        hbox.pack_start(self.icon, True, True, 0)\n",
      "\n",
      "    def on_editable_toggled(self, button):\n",
      "        value = button.get_active()\n",
      "        self.entry.set_editable(value)\n",
      "\n",
      "    def on_visible_toggled(self, button):\n",
      "        value = button.get_active()\n",
      "        self.entry.set_visibility(value)\n",
      "\n",
      "    def on_pulse_toggled(self, button):\n",
      "        if button.get_active():\n",
      "            self.entry.set_progress_pulse_step(0.2)\n",
      "            # Call self.do_pulse every 100 ms\n",
      "            self.timeout_id = GObject.timeout_add(100, self.do_pulse, None)\n",
      "        else:\n",
      "            # Don't call self.do_pulse anymore\n",
      "            GObject.source_remove(self.timeout_id)\n",
      "            self.timeout_id = None\n",
      "            self.entry.set_progress_pulse_step(0)\n",
      "\n",
      "    def do_pulse(self, user_data):\n",
      "        self.entry.progress_pulse()\n",
      "        return True\n",
      "\n",
      "    def on_icon_toggled(self, button):\n",
      "        if button.get_active():\n",
      "            stock_id = Gtk.STOCK_FIND\n",
      "        else:\n",
      "            stock_id = None\n",
      "        self.entry.set_icon_from_stock(Gtk.EntryIconPosition.PRIMARY,\n",
      "            stock_id)\n",
      "\n",
      "win = EntryWindow()\n",
      "win.connect(\"delete-event\", Gtk.main_quit)\n",
      "win.show_all()\n",
      "Gtk.main()"
     ],
     "language": "python",
     "metadata": {},
     "outputs": [],
     "prompt_number": 1
    },
    {
     "cell_type": "markdown",
     "metadata": {},
     "source": [
      "###buttons\n",
      "\n",
      "specifically the toggled button.\n",
      "\n",
      "Also highlights how an argument can be passed to the on_button_toggled function in the connect statement when the button is defined. this lets us use one button function for two buttons."
     ]
    },
    {
     "cell_type": "code",
     "collapsed": false,
     "input": [
      "from gi.repository import Gtk\n",
      "\n",
      "class ToggleButtonWindow(Gtk.Window):\n",
      "\n",
      "    def __init__(self):\n",
      "        Gtk.Window.__init__(self, title=\"ToggleButton Demo\")\n",
      "        self.set_border_width(10)\n",
      "\n",
      "        hbox = Gtk.Box(spacing=6)\n",
      "        self.add(hbox)\n",
      "\n",
      "        button = Gtk.ToggleButton(\"Button 1\")\n",
      "        button.connect(\"toggled\", self.on_button_toggled, \"1\")\n",
      "        hbox.pack_start(button, True, True, 0)\n",
      "\n",
      "        button = Gtk.ToggleButton(\"B_utton 2\", use_underline=True)\n",
      "        button.set_active(True)\n",
      "        button.connect(\"toggled\", self.on_button_toggled, \"2\")\n",
      "        hbox.pack_start(button, True, True, 0)\n",
      "\n",
      "    def on_button_toggled(self, button, name):\n",
      "        if button.get_active():\n",
      "            state = \"on\"\n",
      "        else:\n",
      "            state = \"off\"\n",
      "        print(\"Button\", name, \"was turned\", state)\n",
      "\n",
      "win = ToggleButtonWindow()\n",
      "win.connect(\"delete-event\", Gtk.main_quit)\n",
      "win.show_all()\n",
      "Gtk.main()"
     ],
     "language": "python",
     "metadata": {},
     "outputs": [],
     "prompt_number": 3
    },
    {
     "cell_type": "markdown",
     "metadata": {},
     "source": [
      "radio button inherrits from ToggleButton"
     ]
    },
    {
     "cell_type": "code",
     "collapsed": false,
     "input": [
      "from gi.repository import Gtk\n",
      "\n",
      "class RadioButtonWindow(Gtk.Window):\n",
      "\n",
      "    def __init__(self):\n",
      "        Gtk.Window.__init__(self, title=\"RadioButton Demo\")\n",
      "        self.set_border_width(10)\n",
      "\n",
      "        hbox = Gtk.Box(spacing=6)\n",
      "        self.add(hbox)\n",
      "\n",
      "        button1 = Gtk.RadioButton.new_with_label_from_widget(None, \"Button 1\")\n",
      "        button1.connect(\"toggled\", self.on_button_toggled, \"1\")\n",
      "        hbox.pack_start(button1, False, False, 0)\n",
      "\n",
      "        button2 = Gtk.RadioButton.new_from_widget(button1)\n",
      "        button2.set_label(\"Button 2\")\n",
      "        button2.connect(\"toggled\", self.on_button_toggled, \"2\")\n",
      "        hbox.pack_start(button2, False, False, 0)\n",
      "\n",
      "        button3 = Gtk.RadioButton.new_with_mnemonic_from_widget(button1,\n",
      "            \"B_utton 3\")\n",
      "        button3.connect(\"toggled\", self.on_button_toggled, \"3\")\n",
      "        hbox.pack_start(button3, False, False, 0)\n",
      "\n",
      "    def on_button_toggled(self, button, name):\n",
      "        if button.get_active():\n",
      "            state = \"on\"\n",
      "        else:\n",
      "            state = \"off\"\n",
      "        print(\"Button\", name, \"was turned\", state)\n",
      "\n",
      "win = RadioButtonWindow()\n",
      "win.connect(\"delete-event\", Gtk.main_quit)\n",
      "win.show_all()\n",
      "Gtk.main()"
     ],
     "language": "python",
     "metadata": {},
     "outputs": [],
     "prompt_number": 5
    },
    {
     "cell_type": "markdown",
     "metadata": {},
     "source": [
      "Link button"
     ]
    },
    {
     "cell_type": "code",
     "collapsed": false,
     "input": [
      "from gi.repository import Gtk\n",
      "\n",
      "class LinkButtonWindow(Gtk.Window):\n",
      "\n",
      "    def __init__(self):\n",
      "        Gtk.Window.__init__(self, title=\"LinkButton Demo\")\n",
      "        self.set_border_width(10)\n",
      "\n",
      "        button = Gtk.LinkButton(\"http://www.gtk.org\", \"Visit GTK+ Homepage\")\n",
      "        self.add(button)\n",
      "\n",
      "win = LinkButtonWindow()\n",
      "win.connect(\"delete-event\", Gtk.main_quit)\n",
      "win.show_all()\n",
      "Gtk.main()"
     ],
     "language": "python",
     "metadata": {},
     "outputs": [],
     "prompt_number": 6
    },
    {
     "cell_type": "markdown",
     "metadata": {},
     "source": [
      "spin button\n",
      "\n",
      "Allows an adjustable input that can be manually input and/or in(de)creased with arrows"
     ]
    },
    {
     "cell_type": "code",
     "collapsed": false,
     "input": [
      "from gi.repository import Gtk\n",
      "\n",
      "class SpinButtonWindow(Gtk.Window):\n",
      "\n",
      "    def __init__(self):\n",
      "        Gtk.Window.__init__(self, title=\"SpinButton Demo\")\n",
      "        self.set_border_width(10)\n",
      "\n",
      "        hbox = Gtk.Box(spacing=6)\n",
      "        self.add(hbox)\n",
      "\n",
      "        adjustment = Gtk.Adjustment(0, 0, 100, 1, 10, 0)\n",
      "        self.spinbutton = Gtk.SpinButton()\n",
      "        self.spinbutton.set_adjustment(adjustment)\n",
      "        hbox.pack_start(self.spinbutton, False, False, 0)\n",
      "\n",
      "        check_numeric = Gtk.CheckButton(\"Numeric\")\n",
      "        check_numeric.connect(\"toggled\", self.on_numeric_toggled)\n",
      "        hbox.pack_start(check_numeric, False, False, 0)\n",
      "\n",
      "        check_ifvalid = Gtk.CheckButton(\"If Valid\")\n",
      "        check_ifvalid.connect(\"toggled\", self.on_ifvalid_toggled)\n",
      "        hbox.pack_start(check_ifvalid, False, False, 0)\n",
      "\n",
      "    def on_numeric_toggled(self, button):\n",
      "        self.spinbutton.set_numeric(button.get_active())\n",
      "\n",
      "    def on_ifvalid_toggled(self, button):\n",
      "        if button.get_active():\n",
      "            policy = Gtk.SpinButtonUpdatePolicy.IF_VALID\n",
      "        else:\n",
      "            policy = Gtk.SpinButtonUpdatePolicy.ALWAYS\n",
      "        self.spinbutton.set_update_policy(policy)\n",
      "\n",
      "win = SpinButtonWindow()\n",
      "win.connect(\"delete-event\", Gtk.main_quit)\n",
      "win.show_all()\n",
      "Gtk.main()"
     ],
     "language": "python",
     "metadata": {},
     "outputs": [],
     "prompt_number": 7
    },
    {
     "cell_type": "markdown",
     "metadata": {},
     "source": [
      "slider"
     ]
    },
    {
     "cell_type": "code",
     "collapsed": false,
     "input": [
      "from gi.repository import Gtk\n",
      "\n",
      "class SwitcherWindow(Gtk.Window):\n",
      "\n",
      "    def __init__(self):\n",
      "        Gtk.Window.__init__(self, title=\"Switch Demo\")\n",
      "        self.set_border_width(10)\n",
      "\n",
      "        hbox = Gtk.Box(spacing=6)\n",
      "        self.add(hbox)\n",
      "\n",
      "        switch = Gtk.Switch()\n",
      "        switch.connect(\"notify::active\", self.on_switch_activated)\n",
      "        switch.set_active(False)\n",
      "        hbox.pack_start(switch, True, True, 0)\n",
      "\n",
      "        switch = Gtk.Switch()\n",
      "        switch.connect(\"notify::active\", self.on_switch_activated)\n",
      "        switch.set_active(True)\n",
      "        hbox.pack_start(switch, True, True, 0)\n",
      "\n",
      "    def on_switch_activated(self, switch, gparam):\n",
      "        if switch.get_active():\n",
      "            state = \"on\"\n",
      "        else:\n",
      "            state = \"off\"\n",
      "        print(\"Switch was turned\", state)\n",
      "\n",
      "win = SwitcherWindow()\n",
      "win.connect(\"delete-event\", Gtk.main_quit)\n",
      "win.show_all()\n",
      "Gtk.main()"
     ],
     "language": "python",
     "metadata": {},
     "outputs": [
      {
       "output_type": "stream",
       "stream": "stdout",
       "text": [
        "Switch was turned on\n",
        "Switch was turned"
       ]
      },
      {
       "output_type": "stream",
       "stream": "stdout",
       "text": [
        " off\n",
        "Switch was turned"
       ]
      },
      {
       "output_type": "stream",
       "stream": "stdout",
       "text": [
        " on\n",
        "Switch was turned"
       ]
      },
      {
       "output_type": "stream",
       "stream": "stdout",
       "text": [
        " off\n",
        "Switch was turned"
       ]
      },
      {
       "output_type": "stream",
       "stream": "stdout",
       "text": [
        " on\n",
        "Switch was turned"
       ]
      },
      {
       "output_type": "stream",
       "stream": "stdout",
       "text": [
        " on\n",
        "Switch was turned"
       ]
      },
      {
       "output_type": "stream",
       "stream": "stdout",
       "text": [
        " off\n",
        "Switch was turned"
       ]
      },
      {
       "output_type": "stream",
       "stream": "stdout",
       "text": [
        " on\n",
        "Switch was turned"
       ]
      },
      {
       "output_type": "stream",
       "stream": "stdout",
       "text": [
        " off\n",
        "Switch was turned"
       ]
      },
      {
       "output_type": "stream",
       "stream": "stdout",
       "text": [
        " on\n"
       ]
      }
     ],
     "prompt_number": 8
    },
    {
     "cell_type": "markdown",
     "metadata": {},
     "source": [
      "Progress Bar\n"
     ]
    },
    {
     "cell_type": "code",
     "collapsed": false,
     "input": [
      "from gi.repository import Gtk, GObject\n",
      "\n",
      "class ProgressBarWindow(Gtk.Window):\n",
      "\n",
      "    def __init__(self):\n",
      "        Gtk.Window.__init__(self, title=\"ProgressBar Demo\")\n",
      "        self.set_border_width(10)\n",
      "\n",
      "        vbox = Gtk.Box(orientation=Gtk.Orientation.VERTICAL, spacing=6)\n",
      "        self.add(vbox)\n",
      "\n",
      "        self.progressbar = Gtk.ProgressBar()\n",
      "        vbox.pack_start(self.progressbar, True, True, 0)\n",
      "\n",
      "        button = Gtk.CheckButton(\"Show text\")\n",
      "        button.connect(\"toggled\", self.on_show_text_toggled)\n",
      "        vbox.pack_start(button, True, True, 0)\n",
      "\n",
      "        button = Gtk.CheckButton(\"Activity mode\")\n",
      "        button.connect(\"toggled\", self.on_activity_mode_toggled)\n",
      "        vbox.pack_start(button, True, True, 0)\n",
      "\n",
      "        button = Gtk.CheckButton(\"Right to Left\")\n",
      "        button.connect(\"toggled\", self.on_right_to_left_toggled)\n",
      "        vbox.pack_start(button, True, True, 0)\n",
      "\n",
      "        self.timeout_id = GObject.timeout_add(50, self.on_timeout, None)\n",
      "        self.activity_mode = False\n",
      "\n",
      "    def on_show_text_toggled(self, button):\n",
      "        show_text = button.get_active()\n",
      "        if show_text:\n",
      "            text = \"some text\"\n",
      "        else:\n",
      "            text = None\n",
      "        self.progressbar.set_text(text)\n",
      "        self.progressbar.set_show_text(show_text)\n",
      "\n",
      "    def on_activity_mode_toggled(self, button):\n",
      "        self.activity_mode = button.get_active()\n",
      "        if self.activity_mode:\n",
      "            self.progressbar.pulse()\n",
      "        else:\n",
      "            self.progressbar.set_fraction(0.0)\n",
      "\n",
      "    def on_right_to_left_toggled(self, button):\n",
      "        value = button.get_active()\n",
      "        self.progressbar.set_inverted(value)\n",
      "\n",
      "    def on_timeout(self, user_data):\n",
      "        \"\"\"\n",
      "        Update value on the progress bar\n",
      "        \"\"\"\n",
      "        if self.activity_mode:\n",
      "            self.progressbar.pulse()\n",
      "        else:\n",
      "            new_value = self.progressbar.get_fraction() + 0.01\n",
      "\n",
      "            if new_value > 1:\n",
      "                new_value = 0\n",
      "\n",
      "            self.progressbar.set_fraction(new_value)\n",
      "\n",
      "        # As this is a timeout function, return True so that it\n",
      "        # continues to get called\n",
      "        return True\n",
      "\n",
      "win = ProgressBarWindow()\n",
      "win.connect(\"delete-event\", Gtk.main_quit)\n",
      "win.show_all()\n",
      "Gtk.main()"
     ],
     "language": "python",
     "metadata": {},
     "outputs": []
    }
   ],
   "metadata": {}
  }
 ]
}