{
 "metadata": {
  "name": ""
 },
 "nbformat": 3,
 "nbformat_minor": 0,
 "worksheets": [
  {
   "cells": [
    {
     "cell_type": "markdown",
     "metadata": {},
     "source": [
      "#GTK+ 3 Tutorial\n",
      "Official site: [gtk.org](gtk.org)\n",
      "\n",
      "Tutorial used is found at [link](https://python-gtk-3-tutorial.readthedocs.org/en/latest/index.html)\n",
      "\n",
      "Documentation [link](https://developer.gnome.org/gtk3/stable/)\n",
      "and more python specific docs can be found at [link](https://lazka.github.io/pgi-docs/) although the python documentation is not comprehensive"
     ]
    },
    {
     "cell_type": "markdown",
     "metadata": {},
     "source": [
      "###Entry Widget"
     ]
    },
    {
     "cell_type": "code",
     "collapsed": false,
     "input": [
      "from gi.repository import Gtk, GObject\n",
      "\n",
      "class EntryWindow(Gtk.Window):\n",
      "\n",
      "    def __init__(self):\n",
      "        Gtk.Window.__init__(self, title=\"Entry Demo\")\n",
      "        self.set_size_request(200, 100)\n",
      "\n",
      "        self.timeout_id = None\n",
      "\n",
      "        vbox = Gtk.Box(orientation=Gtk.Orientation.VERTICAL, spacing=6)\n",
      "        self.add(vbox)\n",
      "\n",
      "        self.entry = Gtk.Entry()\n",
      "        self.entry.set_text(\"Hello World\")\n",
      "        vbox.pack_start(self.entry, True, True, 0)\n",
      "\n",
      "        hbox = Gtk.Box(spacing=6)\n",
      "        vbox.pack_start(hbox, True, True, 0)\n",
      "        \n",
      "        self.check_editable = Gtk.CheckButton(\"Editable\")\n",
      "        self.check_editable.connect(\"toggled\", self.on_editable_toggled)\n",
      "        self.check_editable.set_active(True)\n",
      "        hbox.pack_start(self.check_editable, True, True, 0)\n",
      "\n",
      "        self.check_visible = Gtk.CheckButton(\"Visible\")\n",
      "        self.check_visible.connect(\"toggled\", self.on_visible_toggled)\n",
      "        self.check_visible.set_active(True)\n",
      "        hbox.pack_start(self.check_visible, True, True, 0)\n",
      "\n",
      "        self.pulse = Gtk.CheckButton(\"Pulse\")\n",
      "        self.pulse.connect(\"toggled\", self.on_pulse_toggled)\n",
      "        self.pulse.set_active(False)\n",
      "        hbox.pack_start(self.pulse, True, True, 0)\n",
      "\n",
      "        self.icon = Gtk.CheckButton(\"Icon\")\n",
      "        self.icon.connect(\"toggled\", self.on_icon_toggled)\n",
      "        self.icon.set_active(False)\n",
      "        hbox.pack_start(self.icon, True, True, 0)\n",
      "\n",
      "    def on_editable_toggled(self, button):\n",
      "        value = button.get_active()\n",
      "        self.entry.set_editable(value)\n",
      "\n",
      "    def on_visible_toggled(self, button):\n",
      "        value = button.get_active()\n",
      "        self.entry.set_visibility(value)\n",
      "\n",
      "    def on_pulse_toggled(self, button):\n",
      "        if button.get_active():\n",
      "            self.entry.set_progress_pulse_step(0.2)\n",
      "            # Call self.do_pulse every 100 ms\n",
      "            self.timeout_id = GObject.timeout_add(100, self.do_pulse, None)\n",
      "        else:\n",
      "            # Don't call self.do_pulse anymore\n",
      "            GObject.source_remove(self.timeout_id)\n",
      "            self.timeout_id = None\n",
      "            self.entry.set_progress_pulse_step(0)\n",
      "\n",
      "    def do_pulse(self, user_data):\n",
      "        self.entry.progress_pulse()\n",
      "        return True\n",
      "\n",
      "    def on_icon_toggled(self, button):\n",
      "        if button.get_active():\n",
      "            stock_id = Gtk.STOCK_FIND\n",
      "        else:\n",
      "            stock_id = None\n",
      "        self.entry.set_icon_from_stock(Gtk.EntryIconPosition.PRIMARY,\n",
      "            stock_id)\n",
      "\n",
      "win = EntryWindow()\n",
      "win.connect(\"delete-event\", Gtk.main_quit)\n",
      "win.show_all()\n",
      "Gtk.main()"
     ],
     "language": "python",
     "metadata": {},
     "outputs": [],
     "prompt_number": 9
    },
    {
     "cell_type": "markdown",
     "metadata": {},
     "source": [
      "###buttons\n",
      "\n",
      "specifically the toggled button.\n",
      "\n",
      "Also highlights how an argument can be passed to the on_button_toggled function in the connect statement when the button is defined. this lets us use one button function for two buttons."
     ]
    },
    {
     "cell_type": "code",
     "collapsed": false,
     "input": [
      "from gi.repository import Gtk\n",
      "\n",
      "class ToggleButtonWindow(Gtk.Window):\n",
      "\n",
      "    def __init__(self):\n",
      "        Gtk.Window.__init__(self, title=\"ToggleButton Demo\")\n",
      "        self.set_border_width(10)\n",
      "\n",
      "        hbox = Gtk.Box(spacing=6)\n",
      "        self.add(hbox)\n",
      "\n",
      "        button = Gtk.ToggleButton(\"Button 1\")\n",
      "        button.connect(\"toggled\", self.on_button_toggled, \"1\")\n",
      "        hbox.pack_start(button, True, True, 0)\n",
      "\n",
      "        button = Gtk.ToggleButton(\"B_utton 2\", use_underline=True)\n",
      "        button.set_active(True)\n",
      "        button.connect(\"toggled\", self.on_button_toggled, \"2\")\n",
      "        hbox.pack_start(button, True, True, 0)\n",
      "\n",
      "    def on_button_toggled(self, button, name):\n",
      "        if button.get_active():\n",
      "            state = \"on\"\n",
      "        else:\n",
      "            state = \"off\"\n",
      "        print(\"Button\", name, \"was turned\", state)\n",
      "\n",
      "win = ToggleButtonWindow()\n",
      "win.connect(\"delete-event\", Gtk.main_quit)\n",
      "win.show_all()\n",
      "Gtk.main()"
     ],
     "language": "python",
     "metadata": {},
     "outputs": [
      {
       "output_type": "stream",
       "stream": "stdout",
       "text": [
        "Button 2 was turned off\n",
        "Button"
       ]
      },
      {
       "output_type": "stream",
       "stream": "stdout",
       "text": [
        " 1 was turned on\n",
        "Button"
       ]
      },
      {
       "output_type": "stream",
       "stream": "stdout",
       "text": [
        " 2 was turned on\n",
        "Button"
       ]
      },
      {
       "output_type": "stream",
       "stream": "stdout",
       "text": [
        " 1 was turned off\n"
       ]
      }
     ],
     "prompt_number": 4
    },
    {
     "cell_type": "markdown",
     "metadata": {},
     "source": [
      "radio button inherrits from ToggleButton"
     ]
    },
    {
     "cell_type": "code",
     "collapsed": false,
     "input": [
      "from gi.repository import Gtk\n",
      "\n",
      "class RadioButtonWindow(Gtk.Window):\n",
      "\n",
      "    def __init__(self):\n",
      "        Gtk.Window.__init__(self, title=\"RadioButton Demo\")\n",
      "        self.set_border_width(10)\n",
      "\n",
      "        hbox = Gtk.Box(spacing=6)\n",
      "        self.add(hbox)\n",
      "\n",
      "        button1 = Gtk.RadioButton.new_with_label_from_widget(None, \"Button 1\")\n",
      "        button1.connect(\"toggled\", self.on_button_toggled, \"1\")\n",
      "        hbox.pack_start(button1, False, False, 0)\n",
      "\n",
      "        button2 = Gtk.RadioButton.new_from_widget(button1)\n",
      "        button2.set_label(\"Button 2\")\n",
      "        button2.connect(\"toggled\", self.on_button_toggled, \"2\")\n",
      "        hbox.pack_start(button2, False, False, 0)\n",
      "\n",
      "        button3 = Gtk.RadioButton.new_with_mnemonic_from_widget(button1,\n",
      "            \"B_utton 3\")\n",
      "        button3.connect(\"toggled\", self.on_button_toggled, \"3\")\n",
      "        hbox.pack_start(button3, False, False, 0)\n",
      "\n",
      "    def on_button_toggled(self, button, name):\n",
      "        if button.get_active():\n",
      "            state = \"on\"\n",
      "        else:\n",
      "            state = \"off\"\n",
      "        print(\"Button\", name, \"was turned\", state)\n",
      "\n",
      "win = RadioButtonWindow()\n",
      "win.connect(\"delete-event\", Gtk.main_quit)\n",
      "win.show_all()\n",
      "Gtk.main()"
     ],
     "language": "python",
     "metadata": {},
     "outputs": [],
     "prompt_number": 5
    },
    {
     "cell_type": "markdown",
     "metadata": {},
     "source": [
      "Link button"
     ]
    },
    {
     "cell_type": "code",
     "collapsed": false,
     "input": [
      "from gi.repository import Gtk\n",
      "\n",
      "class LinkButtonWindow(Gtk.Window):\n",
      "\n",
      "    def __init__(self):\n",
      "        Gtk.Window.__init__(self, title=\"LinkButton Demo\")\n",
      "        self.set_border_width(10)\n",
      "\n",
      "        button = Gtk.LinkButton(\"http://www.gtk.org\", \"Visit GTK+ Homepage\")\n",
      "        self.add(button)\n",
      "\n",
      "win = LinkButtonWindow()\n",
      "win.connect(\"delete-event\", Gtk.main_quit)\n",
      "win.show_all()\n",
      "Gtk.main()"
     ],
     "language": "python",
     "metadata": {},
     "outputs": [],
     "prompt_number": 6
    },
    {
     "cell_type": "markdown",
     "metadata": {},
     "source": [
      "spin button\n",
      "\n",
      "Allows an adjustable input that can be manually input and/or in(de)creased with arrows"
     ]
    },
    {
     "cell_type": "code",
     "collapsed": false,
     "input": [
      "from gi.repository import Gtk\n",
      "\n",
      "class SpinButtonWindow(Gtk.Window):\n",
      "\n",
      "    def __init__(self):\n",
      "        Gtk.Window.__init__(self, title=\"SpinButton Demo\")\n",
      "        self.set_border_width(10)\n",
      "\n",
      "        hbox = Gtk.Box(spacing=6)\n",
      "        self.add(hbox)\n",
      "\n",
      "        adjustment = Gtk.Adjustment(0, 0, 100, 1, 10, 0)\n",
      "        self.spinbutton = Gtk.SpinButton()\n",
      "        self.spinbutton.set_adjustment(adjustment)\n",
      "        hbox.pack_start(self.spinbutton, False, False, 0)\n",
      "\n",
      "        check_numeric = Gtk.CheckButton(\"Numeric\")\n",
      "        check_numeric.connect(\"toggled\", self.on_numeric_toggled)\n",
      "        hbox.pack_start(check_numeric, False, False, 0)\n",
      "\n",
      "        check_ifvalid = Gtk.CheckButton(\"If Valid\")\n",
      "        check_ifvalid.connect(\"toggled\", self.on_ifvalid_toggled)\n",
      "        hbox.pack_start(check_ifvalid, False, False, 0)\n",
      "\n",
      "    def on_numeric_toggled(self, button):\n",
      "        self.spinbutton.set_numeric(button.get_active())\n",
      "\n",
      "    def on_ifvalid_toggled(self, button):\n",
      "        if button.get_active():\n",
      "            policy = Gtk.SpinButtonUpdatePolicy.IF_VALID\n",
      "        else:\n",
      "            policy = Gtk.SpinButtonUpdatePolicy.ALWAYS\n",
      "        self.spinbutton.set_update_policy(policy)\n",
      "\n",
      "win = SpinButtonWindow()\n",
      "win.connect(\"delete-event\", Gtk.main_quit)\n",
      "win.show_all()\n",
      "Gtk.main()"
     ],
     "language": "python",
     "metadata": {},
     "outputs": [],
     "prompt_number": 7
    },
    {
     "cell_type": "markdown",
     "metadata": {},
     "source": [
      "slider"
     ]
    },
    {
     "cell_type": "code",
     "collapsed": false,
     "input": [
      "from gi.repository import Gtk\n",
      "\n",
      "class SwitcherWindow(Gtk.Window):\n",
      "\n",
      "    def __init__(self):\n",
      "        Gtk.Window.__init__(self, title=\"Switch Demo\")\n",
      "        self.set_border_width(10)\n",
      "\n",
      "        hbox = Gtk.Box(spacing=6)\n",
      "        self.add(hbox)\n",
      "\n",
      "        switch = Gtk.Switch()\n",
      "        switch.connect(\"notify::active\", self.on_switch_activated)\n",
      "        switch.set_active(False)\n",
      "        hbox.pack_start(switch, True, True, 0)\n",
      "\n",
      "        switch = Gtk.Switch()\n",
      "        switch.connect(\"notify::active\", self.on_switch_activated)\n",
      "        switch.set_active(True)\n",
      "        hbox.pack_start(switch, True, True, 0)\n",
      "\n",
      "    def on_switch_activated(self, switch, gparam):\n",
      "        if switch.get_active():\n",
      "            state = \"on\"\n",
      "        else:\n",
      "            state = \"off\"\n",
      "        print(\"Switch was turned\", state)\n",
      "\n",
      "win = SwitcherWindow()\n",
      "win.connect(\"delete-event\", Gtk.main_quit)\n",
      "win.show_all()\n",
      "Gtk.main()"
     ],
     "language": "python",
     "metadata": {},
     "outputs": [
      {
       "output_type": "stream",
       "stream": "stdout",
       "text": [
        "Switch was turned on\n",
        "Switch was turned"
       ]
      },
      {
       "output_type": "stream",
       "stream": "stdout",
       "text": [
        " off\n",
        "Switch was turned"
       ]
      },
      {
       "output_type": "stream",
       "stream": "stdout",
       "text": [
        " on\n",
        "Switch was turned"
       ]
      },
      {
       "output_type": "stream",
       "stream": "stdout",
       "text": [
        " off\n",
        "Switch was turned"
       ]
      },
      {
       "output_type": "stream",
       "stream": "stdout",
       "text": [
        " on\n",
        "Switch was turned"
       ]
      },
      {
       "output_type": "stream",
       "stream": "stdout",
       "text": [
        " on\n",
        "Switch was turned"
       ]
      },
      {
       "output_type": "stream",
       "stream": "stdout",
       "text": [
        " off\n",
        "Switch was turned"
       ]
      },
      {
       "output_type": "stream",
       "stream": "stdout",
       "text": [
        " on\n",
        "Switch was turned"
       ]
      },
      {
       "output_type": "stream",
       "stream": "stdout",
       "text": [
        " off\n",
        "Switch was turned"
       ]
      },
      {
       "output_type": "stream",
       "stream": "stdout",
       "text": [
        " on\n"
       ]
      }
     ],
     "prompt_number": 8
    },
    {
     "cell_type": "markdown",
     "metadata": {},
     "source": [
      "Progress Bar\n"
     ]
    },
    {
     "cell_type": "code",
     "collapsed": false,
     "input": [
      "from gi.repository import Gtk, GObject\n",
      "\n",
      "class ProgressBarWindow(Gtk.Window):\n",
      "\n",
      "    def __init__(self):\n",
      "        Gtk.Window.__init__(self, title=\"ProgressBar Demo\")\n",
      "        self.set_border_width(10)\n",
      "\n",
      "        vbox = Gtk.Box(orientation=Gtk.Orientation.VERTICAL, spacing=6)\n",
      "        self.add(vbox)\n",
      "\n",
      "        self.progressbar = Gtk.ProgressBar()\n",
      "        vbox.pack_start(self.progressbar, True, True, 0)\n",
      "\n",
      "        button = Gtk.CheckButton(\"Show text\")\n",
      "        button.connect(\"toggled\", self.on_show_text_toggled)\n",
      "        vbox.pack_start(button, True, True, 0)\n",
      "\n",
      "        button = Gtk.CheckButton(\"Activity mode\")\n",
      "        button.connect(\"toggled\", self.on_activity_mode_toggled)\n",
      "        vbox.pack_start(button, True, True, 0)\n",
      "\n",
      "        button = Gtk.CheckButton(\"Right to Left\")\n",
      "        button.connect(\"toggled\", self.on_right_to_left_toggled)\n",
      "        vbox.pack_start(button, True, True, 0)\n",
      "\n",
      "        self.timeout_id = GObject.timeout_add(50, self.on_timeout, None)\n",
      "        self.activity_mode = False\n",
      "\n",
      "    def on_show_text_toggled(self, button):\n",
      "        show_text = button.get_active()\n",
      "        if show_text:\n",
      "            text = \"some text\"\n",
      "        else:\n",
      "            text = None\n",
      "        self.progressbar.set_text(text)\n",
      "        self.progressbar.set_show_text(show_text)\n",
      "\n",
      "    def on_activity_mode_toggled(self, button):\n",
      "        self.activity_mode = button.get_active()\n",
      "        if self.activity_mode:\n",
      "            self.progressbar.pulse()\n",
      "        else:\n",
      "            self.progressbar.set_fraction(0.0)\n",
      "\n",
      "    def on_right_to_left_toggled(self, button):\n",
      "        value = button.get_active()\n",
      "        self.progressbar.set_inverted(value)\n",
      "\n",
      "    def on_timeout(self, user_data):\n",
      "        \"\"\"\n",
      "        Update value on the progress bar\n",
      "        \"\"\"\n",
      "        if self.activity_mode:\n",
      "            self.progressbar.pulse()\n",
      "        else:\n",
      "            new_value = self.progressbar.get_fraction() + 0.01\n",
      "\n",
      "            if new_value > 1:\n",
      "                new_value = 0\n",
      "\n",
      "            self.progressbar.set_fraction(new_value)\n",
      "\n",
      "        # As this is a timeout function, return True so that it\n",
      "        # continues to get called\n",
      "        return True\n",
      "\n",
      "win = ProgressBarWindow()\n",
      "win.connect(\"delete-event\", Gtk.main_quit)\n",
      "win.show_all()\n",
      "Gtk.main()"
     ],
     "language": "python",
     "metadata": {},
     "outputs": [],
     "prompt_number": 1
    },
    {
     "cell_type": "markdown",
     "metadata": {},
     "source": [
      "combo box"
     ]
    },
    {
     "cell_type": "code",
     "collapsed": false,
     "input": [
      "from gi.repository import Gtk\n",
      "\n",
      "class ComboBoxWindow(Gtk.Window):\n",
      "\n",
      "    def __init__(self):\n",
      "        Gtk.Window.__init__(self, title=\"ComboBox Example\")\n",
      "\n",
      "        self.set_border_width(10)\n",
      "\n",
      "        name_store = Gtk.ListStore(int, str)\n",
      "        name_store.append([1, \"Billy Bob\"])\n",
      "        name_store.append([11, \"Billy Bob Junior\"])\n",
      "        name_store.append([12, \"Sue Bob\"])\n",
      "        name_store.append([2, \"Joey Jojo\"])\n",
      "        name_store.append([3, \"Rob McRoberts\"])\n",
      "        name_store.append([31, \"Xavier McRoberts\"])\n",
      "\n",
      "        vbox = Gtk.Box(orientation=Gtk.Orientation.VERTICAL, spacing=6)\n",
      "\n",
      "        name_combo = Gtk.ComboBox.new_with_model_and_entry(name_store)\n",
      "        name_combo.connect(\"changed\", self.on_name_combo_changed)\n",
      "        name_combo.set_entry_text_column(1)\n",
      "        vbox.pack_start(name_combo, False, False, 0)\n",
      "\n",
      "        country_store = Gtk.ListStore(str)\n",
      "        countries = [\"Austria\", \"Brazil\", \"Belgium\", \"France\", \"Germany\",\n",
      "            \"Switzerland\", \"United Kingdom\", \"United States of America\",\n",
      "            \"Uruguay\"]\n",
      "        for country in countries:\n",
      "            country_store.append([country])\n",
      "\n",
      "        country_combo = Gtk.ComboBox.new_with_model(country_store)\n",
      "        country_combo.connect(\"changed\", self.on_country_combo_changed)\n",
      "        renderer_text = Gtk.CellRendererText()\n",
      "        country_combo.pack_start(renderer_text, True)\n",
      "        country_combo.add_attribute(renderer_text, \"text\", 0)\n",
      "        vbox.pack_start(country_combo, False, False, True)\n",
      "\n",
      "        currencies = [\"Euro\", \"US Dollars\", \"British Pound\", \"Japanese Yen\",\n",
      "            \"Russian Ruble\", \"Mexican peso\", \"Swiss franc\"]\n",
      "        currency_combo = Gtk.ComboBoxText()\n",
      "        currency_combo.set_entry_text_column(0)\n",
      "        currency_combo.connect(\"changed\", self.on_currency_combo_changed)\n",
      "        for currency in currencies:\n",
      "            currency_combo.append_text(currency)\n",
      "\n",
      "        vbox.pack_start(currency_combo, False, False, 0)\n",
      "\n",
      "        self.add(vbox)\n",
      "\n",
      "    def on_name_combo_changed(self, combo):\n",
      "        tree_iter = combo.get_active_iter()\n",
      "        if tree_iter != None:\n",
      "            model = combo.get_model()\n",
      "            row_id, name = model[tree_iter][:2]\n",
      "            print(\"Selected: ID=%d, name=%s\" % (row_id, name))\n",
      "        else:\n",
      "            entry = combo.get_child()\n",
      "            print(\"Entered: %s\" % entry.get_text())\n",
      "\n",
      "    def on_country_combo_changed(self, combo):\n",
      "        tree_iter = combo.get_active_iter()\n",
      "        if tree_iter != None:\n",
      "            model = combo.get_model()\n",
      "            country = model[tree_iter][0]\n",
      "            print(\"Selected: country=%s\" % country)\n",
      "\n",
      "    def on_currency_combo_changed(self, combo):\n",
      "        text = combo.get_active_text()\n",
      "        if text != None:\n",
      "            print(\"Selected: currency=%s\" % text)\n",
      "\n",
      "win = ComboBoxWindow()\n",
      "win.connect(\"delete-event\", Gtk.main_quit)\n",
      "win.show_all()\n",
      "Gtk.main()"
     ],
     "language": "python",
     "metadata": {},
     "outputs": [
      {
       "output_type": "stream",
       "stream": "stdout",
       "text": [
        "Entered: t\n",
        "Entered: te"
       ]
      },
      {
       "output_type": "stream",
       "stream": "stdout",
       "text": [
        "\n",
        "Entered: tes"
       ]
      },
      {
       "output_type": "stream",
       "stream": "stdout",
       "text": [
        "\n",
        "Entered: test"
       ]
      },
      {
       "output_type": "stream",
       "stream": "stdout",
       "text": [
        "\n",
        "Selected: country=Belgium"
       ]
      },
      {
       "output_type": "stream",
       "stream": "stdout",
       "text": [
        "\n",
        "Selected: currency=Russian Ruble"
       ]
      },
      {
       "output_type": "stream",
       "stream": "stdout",
       "text": [
        "\n"
       ]
      }
     ],
     "prompt_number": 3
    },
    {
     "cell_type": "code",
     "collapsed": false,
     "input": [
      "from gi.repository import Gtk\n",
      "\n",
      "class FileChooserWindow(Gtk.Window):\n",
      "\n",
      "    def __init__(self):\n",
      "        Gtk.Window.__init__(self, title=\"FileChooser Example\")\n",
      "\n",
      "        box = Gtk.Box(spacing=6)\n",
      "        self.add(box)\n",
      "\n",
      "        button1 = Gtk.Button(\"Choose File\")\n",
      "        button1.connect(\"clicked\", self.on_file_clicked)\n",
      "        box.add(button1)\n",
      "\n",
      "        button2 = Gtk.Button(\"Choose Folder\")\n",
      "        button2.connect(\"clicked\", self.on_folder_clicked)\n",
      "        box.add(button2)\n",
      "\n",
      "    def on_file_clicked(self, widget):\n",
      "        dialog = Gtk.FileChooserDialog(\"Please choose a file\", self,\n",
      "            Gtk.FileChooserAction.OPEN,\n",
      "            (Gtk.STOCK_CANCEL, Gtk.ResponseType.CANCEL,\n",
      "             Gtk.STOCK_OPEN, Gtk.ResponseType.OK))\n",
      "\n",
      "        self.add_filters(dialog)\n",
      "\n",
      "        response = dialog.run()\n",
      "        if response == Gtk.ResponseType.OK:\n",
      "            print(\"Open clicked\")\n",
      "            print(\"File selected: \" + dialog.get_filename())\n",
      "        elif response == Gtk.ResponseType.CANCEL:\n",
      "            print(\"Cancel clicked\")\n",
      "\n",
      "        dialog.destroy()\n",
      "\n",
      "    def add_filters(self, dialog):\n",
      "        filter_text = Gtk.FileFilter()\n",
      "        filter_text.set_name(\"Text files\")\n",
      "        filter_text.add_mime_type(\"text/plain\")\n",
      "        dialog.add_filter(filter_text)\n",
      "\n",
      "        filter_py = Gtk.FileFilter()\n",
      "        filter_py.set_name(\"Python files\")\n",
      "        filter_py.add_mime_type(\"text/x-python\")\n",
      "        dialog.add_filter(filter_py)\n",
      "\n",
      "        filter_any = Gtk.FileFilter()\n",
      "        filter_any.set_name(\"Any files\")\n",
      "        filter_any.add_pattern(\"*\")\n",
      "        dialog.add_filter(filter_any)\n",
      "\n",
      "    def on_folder_clicked(self, widget):\n",
      "        dialog = Gtk.FileChooserDialog(\"Please choose a folder\", self,\n",
      "            Gtk.FileChooserAction.SELECT_FOLDER,\n",
      "            (Gtk.STOCK_CANCEL, Gtk.ResponseType.CANCEL,\n",
      "             \"Select\", Gtk.ResponseType.OK))\n",
      "        dialog.set_default_size(800, 400)\n",
      "\n",
      "        response = dialog.run()\n",
      "        if response == Gtk.ResponseType.OK:\n",
      "            print(\"Select clicked\")\n",
      "            print(\"Folder selected: \" + dialog.get_filename())\n",
      "        elif response == Gtk.ResponseType.CANCEL:\n",
      "            print(\"Cancel clicked\")\n",
      "\n",
      "        dialog.destroy()\n",
      "\n",
      "win = FileChooserWindow()\n",
      "win.connect(\"delete-event\", Gtk.main_quit)\n",
      "win.show_all()\n",
      "Gtk.main()"
     ],
     "language": "python",
     "metadata": {},
     "outputs": [
      {
       "output_type": "stream",
       "stream": "stdout",
       "text": [
        "Select clicked\n",
        "Folder selected: /home/leo/gitrepos/pa-control/2terminal\n",
        "Select clicked"
       ]
      },
      {
       "output_type": "stream",
       "stream": "stdout",
       "text": [
        "\n",
        "Folder selected: /home/leo/gitrepos/pa-control/pulldata\n",
        "Open clicked"
       ]
      },
      {
       "output_type": "stream",
       "stream": "stdout",
       "text": [
        "\n",
        "File selected: /home/leo/gitrepos/pa-control/Gtk3 + tute2 Widgets.ipynb\n"
       ]
      }
     ],
     "prompt_number": 6
    },
    {
     "cell_type": "code",
     "collapsed": false,
     "input": [],
     "language": "python",
     "metadata": {},
     "outputs": []
    }
   ],
   "metadata": {}
  }
 ]
}