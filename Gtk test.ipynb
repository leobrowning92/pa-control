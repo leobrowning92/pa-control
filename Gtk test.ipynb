{
 "metadata": {
  "name": ""
 },
 "nbformat": 3,
 "nbformat_minor": 0,
 "worksheets": [
  {
   "cells": [
    {
     "cell_type": "markdown",
     "metadata": {},
     "source": [
      "#GTK+ 3 pa GUI test\n",
      "Official site: [gtk.org](gtk.org)\n",
      "\n",
      "Tutorial used is found at [link](https://python-gtk-3-tutorial.readthedocs.org/en/latest/index.html)\n",
      "\n",
      "Documentation [link](https://developer.gnome.org/gtk3/stable/)\n",
      "and more python specific docs can be found at [link](https://lazka.github.io/pgi-docs/) although the python documentation is not comprehensive"
     ]
    },
    {
     "cell_type": "code",
     "collapsed": false,
     "input": [
      "from gi.repository import Gtk, GObject\n",
      "\n",
      "class paTestGUI(Gtk.Window):\n",
      "\n",
      "    def __init__(self):\n",
      "        Gtk.Window.__init__(self, title=\"pa GUI test\") #Top level window\n",
      "        self.i=0\n",
      "        vbox = Gtk.Box(orientation=Gtk.Orientation.VERTICAL, spacing=6)\n",
      "        self.add(vbox) #vbox added to parent window\n",
      "        \n",
      "        hbox = Gtk.Box(spacing=6)\n",
      "        vbox.pack_start(hbox, True, True, 0) #ads hbox to vbox\n",
      "        \n",
      "        self.entry=Gtk.Entry()#initialize entry widget\n",
      "        self.entry.set_text(\"Default Text\")\n",
      "        hbox.pack_start(self.entry,True,True,0)#adds entry to vbox\n",
      "        \n",
      "        self.enter_button=Gtk.Button(label=\"Enter\")\n",
      "        self.enter_button.connect('clicked',self.on_enter_button_clicked)\n",
      "        hbox.pack_start(self.enter_button,True,True,0)\n",
      "        \n",
      "        \n",
      "    def on_enter_button_clicked(self,widget):\n",
      "        #prints the text input to terminal\n",
      "        print(\"Enter button pressed, input text : \"+ self.entry.get_text())\n",
      "        \n",
      "\n",
      "        \n",
      "win = paTestGUI()\n",
      "win.connect(\"delete-event\", Gtk.main_quit)\n",
      "win.show_all()\n",
      "Gtk.main()"
     ],
     "language": "python",
     "metadata": {},
     "outputs": [],
     "prompt_number": 13
    },
    {
     "cell_type": "code",
     "collapsed": false,
     "input": [],
     "language": "python",
     "metadata": {},
     "outputs": []
    }
   ],
   "metadata": {}
  }
 ]
}